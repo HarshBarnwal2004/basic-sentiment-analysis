{
 "cells": [
  {
   "cell_type": "code",
   "execution_count": 8,
   "metadata": {},
   "outputs": [],
   "source": [
    "# Import necessary libraries\n",
    "from textblob import TextBlob\n",
    "import pandas as pd"
   ]
  },
  {
   "cell_type": "code",
   "execution_count": 9,
   "metadata": {},
   "outputs": [],
   "source": [
    "comments = [\n",
    "    \"I love both manga and manhwa! Each has its unique style and storylines.\",\n",
    "    \"Manga is far superior to manhwa. The art and storytelling are on another level.\",\n",
    "    \"Manhwa is underrated! Some manhwa have better plots than most mangas.\",\n",
    "    \"I hate how manhwa copies everything from manga. It's just a cheap knock-off.\",\n",
    "    \"Both are good in their own way. There’s no need to compare them.\",\n",
    "    \"Manga has been around much longer, and it shows in its quality.\",\n",
    "    \"Manhwa is getting better, but it still can't compete with the best mangas.\",\n",
    "    \"I enjoy manhwa more because the characters feel more relatable.\",\n",
    "    \"The two are very different, and I think it's unfair to say one is better than the other.\",\n",
    "    \"Honestly, manhwa is just not as good as manga. The stories are too repetitive.\"\n",
    "]"
   ]
  },
  {
   "cell_type": "code",
   "execution_count": 10,
   "metadata": {},
   "outputs": [],
   "source": [
    "#Performing sentiment analysis using TextBlob\n",
    "def get_sentiment(comment):\n",
    "    analysis = TextBlob(comment)\n",
    "    # Polarity ranges from -1 (negative) to 1 (positive)\n",
    "    if analysis.sentiment.polarity > 0:\n",
    "        return 'positive'\n",
    "    elif analysis.sentiment.polarity < 0:\n",
    "        return 'negative'\n",
    "    else:\n",
    "        return 'neutral'"
   ]
  },
  {
   "cell_type": "code",
   "execution_count": 11,
   "metadata": {},
   "outputs": [],
   "source": [
    "df = pd.DataFrame(comments, columns=['comment'])\n",
    "df['sentiment'] = df['comment'].apply(get_sentiment)"
   ]
  },
  {
   "cell_type": "code",
   "execution_count": 12,
   "metadata": {},
   "outputs": [],
   "source": [
    "# Summarize the results (percentage of positive vs. negative comments)\n",
    "sentiment_counts = df['sentiment'].value_counts(normalize=True) * 100"
   ]
  },
  {
   "cell_type": "code",
   "execution_count": 13,
   "metadata": {},
   "outputs": [
    {
     "name": "stdout",
     "output_type": "stream",
     "text": [
      "Sentiment Analysis Results:\n",
      "                                             comment sentiment\n",
      "0  I love both manga and manhwa! Each has its uni...  positive\n",
      "1  Manga is far superior to manhwa. The art and s...  positive\n",
      "2  Manhwa is underrated! Some manhwa have better ...  positive\n",
      "3  I hate how manhwa copies everything from manga...  negative\n",
      "4  Both are good in their own way. There’s no nee...  positive\n",
      "5  Manga has been around much longer, and it show...  positive\n",
      "6  Manhwa is getting better, but it still can't c...  positive\n",
      "7  I enjoy manhwa more because the characters fee...  positive\n",
      "8  The two are very different, and I think it's u...  negative\n",
      "9  Honestly, manhwa is just not as good as manga....  positive\n",
      "\n",
      "Summary of Sentiment Analysis (Percentage):\n",
      "sentiment\n",
      "positive    80.0\n",
      "negative    20.0\n",
      "Name: proportion, dtype: float64\n"
     ]
    }
   ],
   "source": [
    "# Display the results\n",
    "print(\"Sentiment Analysis Results:\")\n",
    "print(df)\n",
    "print(\"\\nSummary of Sentiment Analysis (Percentage):\")\n",
    "print(sentiment_counts)"
   ]
  },
  {
   "cell_type": "code",
   "execution_count": null,
   "metadata": {},
   "outputs": [],
   "source": []
  }
 ],
 "metadata": {
  "kernelspec": {
   "display_name": "Python 3",
   "language": "python",
   "name": "python3"
  },
  "language_info": {
   "codemirror_mode": {
    "name": "ipython",
    "version": 3
   },
   "file_extension": ".py",
   "mimetype": "text/x-python",
   "name": "python",
   "nbconvert_exporter": "python",
   "pygments_lexer": "ipython3",
   "version": "3.12.2"
  }
 },
 "nbformat": 4,
 "nbformat_minor": 2
}
